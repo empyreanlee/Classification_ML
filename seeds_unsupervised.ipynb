{
  "nbformat": 4,
  "nbformat_minor": 0,
  "metadata": {
    "colab": {
      "provenance": [],
      "authorship_tag": "ABX9TyNhvpxy7I0ASlNYLfem3hcz",
      "include_colab_link": true
    },
    "kernelspec": {
      "name": "python3",
      "display_name": "Python 3"
    },
    "language_info": {
      "name": "python"
    }
  },
  "cells": [
    {
      "cell_type": "markdown",
      "metadata": {
        "id": "view-in-github",
        "colab_type": "text"
      },
      "source": [
        "<a href=\"https://colab.research.google.com/github/empyreanlee/Machine-Learning/blob/main/seeds_unsupervised.ipynb\" target=\"_parent\"><img src=\"https://colab.research.google.com/assets/colab-badge.svg\" alt=\"Open In Colab\"/></a>"
      ]
    },
    {
      "cell_type": "markdown",
      "source": [
        "# Unsupervised Learning"
      ],
      "metadata": {
        "id": "F_vfIFtQrAEH"
      }
    },
    {
      "cell_type": "code",
      "source": [
        "#import libraries\n",
        "import pandas as pd\n",
        "import numpy as np\n",
        "import matplotlib.pyplot as plt\n",
        "import copy\n",
        "import seaborn as sns"
      ],
      "metadata": {
        "id": "n4Xnc_vtjJMa"
      },
      "execution_count": null,
      "outputs": []
    },
    {
      "cell_type": "code",
      "source": [
        "#define column names for the dataframe and read from the txt file\n",
        "dataset_columns = [\"area\", \"perimeter\", \"compactness\", \"length\", \"width\", \"assymetry\", \"groove\", \"class\"]\n",
        "df = pd.read_csv(\"seeds_dataset.txt\", names= dataset_columns, sep=\"\\s+\" )"
      ],
      "metadata": {
        "id": "2kKNgCRNQeUX"
      },
      "execution_count": null,
      "outputs": []
    },
    {
      "cell_type": "code",
      "source": [
        "df.head()"
      ],
      "metadata": {
        "id": "KrOJNkGRR41R"
      },
      "execution_count": null,
      "outputs": []
    },
    {
      "cell_type": "code",
      "source": [
        "# plot the comparison of the attributes in the dataset\n",
        "for i in range(len(dataset_columns)-1):\n",
        "  for j in range(i+1, len(dataset_columns)-1):# to avoid comparing an attribute with itself\n",
        "    x_label=dataset_columns[i]\n",
        "    y_label=dataset_columns[j]\n",
        "    sns.scatterplot(x=x_label, y=y_label, data=df, hue=\"class\")\n",
        "    plt.show()"
      ],
      "metadata": {
        "id": "YhwJCGImTFLh"
      },
      "execution_count": null,
      "outputs": []
    },
    {
      "cell_type": "markdown",
      "source": [
        "## Clustering"
      ],
      "metadata": {
        "id": "0fgEuUzPZlCc"
      }
    },
    {
      "cell_type": "code",
      "source": [
        "from sklearn.cluster import KMeans"
      ],
      "metadata": {
        "id": "oUkelxXzZsS-"
      },
      "execution_count": null,
      "outputs": []
    },
    {
      "cell_type": "code",
      "source": [
        "#Take a graph's values and assign to x and y to create 2D ~ X\n",
        "x = \"perimeter\"\n",
        "y = \"assymetry\"\n",
        "X = df[[x,y]].values"
      ],
      "metadata": {
        "id": "vfMVlVbUZ0ut"
      },
      "execution_count": null,
      "outputs": []
    },
    {
      "cell_type": "code",
      "source": [
        "#Create clustering model kmeans with 3 clusters and fit to X\n",
        "kmeans = KMeans(n_clusters = 3,n_init=\"auto\" ).fit(X)# n_init is to escape some warning#\n",
        "clusters = kmeans.labels_"
      ],
      "metadata": {
        "id": "EqDasurSaekR"
      },
      "execution_count": null,
      "outputs": []
    },
    {
      "cell_type": "code",
      "source": [
        "clusters"
      ],
      "metadata": {
        "id": "MQweyrzSbHPN"
      },
      "execution_count": null,
      "outputs": []
    },
    {
      "cell_type": "code",
      "source": [
        "df[\"class\"].values"
      ],
      "metadata": {
        "id": "0IFnAP_tbcRy"
      },
      "execution_count": null,
      "outputs": []
    },
    {
      "cell_type": "code",
      "source": [
        "#create dataframe and stack horizontally data from X w/ clusters array\n",
        "clusters_df = pd.DataFrame(np.hstack((X, clusters.reshape(-1, 1))), columns = [x,y, \"class\"])"
      ],
      "metadata": {
        "id": "jjAh7D-nck2n"
      },
      "execution_count": null,
      "outputs": []
    },
    {
      "cell_type": "code",
      "source": [
        "#K Means Classes\n",
        "sns.scatterplot(x=x, y=y, hue=\"class\", data= clusters_df)\n",
        "plt.plot()"
      ],
      "metadata": {
        "id": "qVwQ53eZdf9J"
      },
      "execution_count": null,
      "outputs": []
    },
    {
      "cell_type": "code",
      "source": [
        "#Original Classes\n",
        "sns.scatterplot(x=x, y=y, hue=\"class\", data= df)#here we have df (original dataframe)\n",
        "plt.plot()"
      ],
      "metadata": {
        "id": "HutzojSigwaG"
      },
      "execution_count": null,
      "outputs": []
    },
    {
      "cell_type": "markdown",
      "source": [
        "# Higher dimensions"
      ],
      "metadata": {
        "id": "rwct5l1BfRLg"
      }
    },
    {
      "cell_type": "code",
      "source": [
        "#select all columns in the df except last one to X\n",
        "X = df[dataset_columns[:-1]].values"
      ],
      "metadata": {
        "id": "-xb-h7XAextq"
      },
      "execution_count": null,
      "outputs": []
    },
    {
      "cell_type": "code",
      "source": [
        "#create clustering model w/ 3 clusters\n",
        "kmeans = KMeans(n_clusters = 3, n_init=\"auto\").fit(X)\n",
        "#create df by horizontally stacking X and add column clusters\n",
        "clusters_df = pd.DataFrame(np.hstack((X, clusters.reshape(-1, 1))), columns=df.columns)"
      ],
      "metadata": {
        "id": "qc-Um6ghfj7b"
      },
      "execution_count": null,
      "outputs": []
    },
    {
      "cell_type": "code",
      "source": [
        "#K Means Classes\n",
        "sns.scatterplot(x=x, y=y, hue=\"class\", data= clusters_df)\n",
        "plt.plot()"
      ],
      "metadata": {
        "id": "XttQKxq5g8Xo"
      },
      "execution_count": null,
      "outputs": []
    },
    {
      "cell_type": "code",
      "source": [
        "#Original Classes\n",
        "sns.scatterplot(x=x, y=y, hue=\"class\", data= df)\n",
        "plt.plot()"
      ],
      "metadata": {
        "id": "qjJDpsVOjhD_"
      },
      "execution_count": null,
      "outputs": []
    },
    {
      "cell_type": "markdown",
      "source": [
        "# PCA"
      ],
      "metadata": {
        "id": "-r1hWbJhkelp"
      }
    },
    {
      "cell_type": "code",
      "source": [
        "#Principal Component Analysis\n",
        "from sklearn.decomposition import PCA"
      ],
      "metadata": {
        "id": "93N9pEi-kdOq"
      },
      "execution_count": null,
      "outputs": []
    },
    {
      "cell_type": "code",
      "source": [
        "# create an instance of PCA n_component parameter set to 2 (reduce dimensionality)\n",
        "pca = PCA(n_components=2)\n",
        "transformed_x = pca.fit_transform(X)#fit pca model to X and assign"
      ],
      "metadata": {
        "id": "JUfjh9WAk2TP"
      },
      "execution_count": null,
      "outputs": []
    },
    {
      "cell_type": "code",
      "source": [
        "#sample no. and cols originally\n",
        "X.shape"
      ],
      "metadata": {
        "id": "FAa7BdU-lal4"
      },
      "execution_count": null,
      "outputs": []
    },
    {
      "cell_type": "code",
      "source": [
        "# columns are 2 (2D)\n",
        "transformed_x.shape\n",
        "transformed_x[:5]"
      ],
      "metadata": {
        "id": "9tbTjfG9lvqp"
      },
      "execution_count": null,
      "outputs": []
    },
    {
      "cell_type": "code",
      "source": [
        "#represent data for the first and second dimension and scatterplot\n",
        "plt.scatter(transformed_x[:,0], transformed_x[:,1])\n",
        "plt.show()"
      ],
      "metadata": {
        "id": "tVX_Q81LmI4E"
      },
      "execution_count": null,
      "outputs": []
    },
    {
      "cell_type": "code",
      "source": [
        "#create df and stack horizontally two arrays tran_x and kmeans cluster labels\n",
        "kmeans_pca_df = pd.DataFrame(np.hstack((transformed_x, kmeans.labels_.reshape(-1, 1))), columns=[\"pca1\", \"pca2\", \"class\"])"
      ],
      "metadata": {
        "id": "az7MtJt1nEvP"
      },
      "execution_count": null,
      "outputs": []
    },
    {
      "cell_type": "code",
      "source": [
        "truth_pca_df = pd.DataFrame(np.hstack((transformed_x, df[\"class\"].values.reshape(-1, 1))), columns=[\"pca1\", \"pca2\", \"class\"])"
      ],
      "metadata": {
        "id": "v_3p5pHKpu_X"
      },
      "execution_count": null,
      "outputs": []
    },
    {
      "cell_type": "code",
      "source": [
        "#K Means Classes\n",
        "sns.scatterplot(x=\"pca1\", y=\"pca2\", hue=\"class\", data= kmeans_pca_df)\n",
        "plt.plot()"
      ],
      "metadata": {
        "id": "1LW10Y1Lpwto"
      },
      "execution_count": null,
      "outputs": []
    },
    {
      "cell_type": "code",
      "source": [
        "#Truth Classes\n",
        "sns.scatterplot(x=\"pca1\", y=\"pca2\", hue=\"class\", data=truth_pca_df)\n",
        "plt.plot()"
      ],
      "metadata": {
        "id": "NDQF_pvCqVtI"
      },
      "execution_count": null,
      "outputs": []
    }
  ]
}