{
  "nbformat": 4,
  "nbformat_minor": 0,
  "metadata": {
    "colab": {
      "provenance": [],
      "authorship_tag": "ABX9TyM0GVo9NXM6+XJgsTcyHRiZ",
      "include_colab_link": true
    },
    "kernelspec": {
      "name": "python3",
      "display_name": "Python 3"
    },
    "language_info": {
      "name": "python"
    }
  },
  "cells": [
    {
      "cell_type": "markdown",
      "metadata": {
        "id": "view-in-github",
        "colab_type": "text"
      },
      "source": [
        "<a href=\"https://colab.research.google.com/github/empyreanlee/Machine-Learning/blob/main/validation_%26_tests.ipynb\" target=\"_parent\"><img src=\"https://colab.research.google.com/assets/colab-badge.svg\" alt=\"Open In Colab\"/></a>"
      ]
    },
    {
      "cell_type": "code",
      "execution_count": 2,
      "metadata": {
        "id": "yNx8Ds55IJEQ"
      },
      "outputs": [],
      "source": [
        "# Import modules\n",
        "import numpy as np\n",
        "import pandas as pd\n",
        "import tensorflow as tf\n",
        "from matplotlib import pyplot as plt\n",
        "\n",
        "pd.options.display.max_rows = 10\n",
        "pd.options.display.float_format = \"{:.1f}\".format"
      ]
    },
    {
      "cell_type": "code",
      "source": [
        "train_df = pd.read_csv(\"https://download.mlcc.google.com/mledu-datasets/california_housing_train.csv\")\n",
        "test_df = pd.read_csv(\"https://download.mlcc.google.com/mledu-datasets/california_housing_test.csv\")"
      ],
      "metadata": {
        "id": "59kR5g4uIgN7"
      },
      "execution_count": 3,
      "outputs": []
    },
    {
      "cell_type": "code",
      "source": [
        "scale_factor = 1000.0\n",
        "# Scale the training and test sets labels.\n",
        "train_df[\"median_house_value\"] /= scale_factor\n",
        "test_df[\"median_house_value\"] /= scale_factor"
      ],
      "metadata": {
        "id": "cHc3uAI_IqSa"
      },
      "execution_count": 4,
      "outputs": []
    },
    {
      "cell_type": "code",
      "source": [
        "# Define the functions that build and train a model\n",
        "def build_model(my_learning_rate):\n",
        "  model = tf.keras.models.Sequential()\n",
        "  model.add(tf.keras.layers.Dense(units=1, input_shape=(1,)))\n",
        "\n",
        "  model.compile(optimizer=tf.keras.optimizers.experimental.RMSprop(learning_rate=my_learning_rate),\n",
        "                loss=\"mean_squared_error\",\n",
        "                metrics=[tf.keras.metrics.RootMeanSquaredError()])\n",
        "\n",
        "  return model\n",
        "\n",
        "\n",
        "def train_model(model, df, feature, label, my_epochs,\n",
        "                my_batch_size=None, my_validation_split=0.1):\n",
        "\n",
        "  history = model.fit(x=df[feature],\n",
        "                      y=df[label],\n",
        "                      batch_size=my_batch_size,\n",
        "                      epochs=my_epochs,\n",
        "                      validation_split=my_validation_split)\n",
        "\n",
        "  trained_weight = model.get_weights()[0]\n",
        "  trained_bias = model.get_weights()[1]\n",
        "\n",
        "  epochs = history.epoch\n",
        "  hist = pd.DataFrame(history.history)\n",
        "  rmse = hist[\"root_mean_squared_error\"]\n",
        "\n",
        "  return epochs, rmse, history.history\n",
        "\n",
        "print(\"Defined the build_model and train_model functions.\")"
      ],
      "metadata": {
        "colab": {
          "base_uri": "https://localhost:8080/"
        },
        "id": "8XwQ_XQpI8xN",
        "outputId": "e80754cf-e7a5-4d6b-db59-ad706cb7d937"
      },
      "execution_count": 5,
      "outputs": [
        {
          "output_type": "stream",
          "name": "stdout",
          "text": [
            "Defined the build_model and train_model functions.\n"
          ]
        }
      ]
    },
    {
      "cell_type": "code",
      "source": [
        "#@title Define the plotting function\n",
        "\n",
        "def plot_the_loss_curve(epochs, mae_training, mae_validation):\n",
        "  \"\"\"Plot a curve of loss vs. epoch.\"\"\"\n",
        "\n",
        "  plt.figure()\n",
        "  plt.xlabel(\"Epoch\")\n",
        "  plt.ylabel(\"Root Mean Squared Error\")\n",
        "\n",
        "  plt.plot(epochs[1:], mae_training[1:], label=\"Training Loss\")\n",
        "  plt.plot(epochs[1:], mae_validation[1:], label=\"Validation Loss\")\n",
        "  plt.legend()\n",
        "\n",
        "  # We're not going to plot the first epoch, since the loss on the first epoch\n",
        "  # is often substantially greater than the loss for other epochs.\n",
        "  merged_mae_lists = mae_training[1:] + mae_validation[1:]\n",
        "  highest_loss = max(merged_mae_lists)\n",
        "  lowest_loss = min(merged_mae_lists)\n",
        "  delta = highest_loss - lowest_loss\n",
        "  print(delta)\n",
        "\n",
        "  top_of_y_axis = highest_loss + (delta * 0.05)\n",
        "  bottom_of_y_axis = lowest_loss - (delta * 0.05)\n",
        "\n",
        "  plt.ylim([bottom_of_y_axis, top_of_y_axis])\n",
        "  plt.show()\n",
        "\n",
        "print(\"Defined the plot_the_loss_curve function.\")"
      ],
      "metadata": {
        "colab": {
          "base_uri": "https://localhost:8080/"
        },
        "id": "C0ffkjHlPpzb",
        "outputId": "3982a783-a9cc-4918-cbe2-2f35e69f14fc"
      },
      "execution_count": 6,
      "outputs": [
        {
          "output_type": "stream",
          "name": "stdout",
          "text": [
            "Defined the plot_the_loss_curve function.\n"
          ]
        }
      ]
    },
    {
      "cell_type": "code",
      "source": [
        "# The following variables are the hyperparameters.\n",
        "learning_rate = 0.08\n",
        "epochs = 30\n",
        "batch_size = 100\n",
        "\n",
        "validation_split = 0.2\n",
        "\n",
        "my_feature = \"median_income\"\n",
        "my_label = \"median_house_value\"\n",
        "\n",
        "# Invoke the functions to build and train the model.\n",
        "my_model = build_model(learning_rate)\n",
        "epochs, rmse, history = train_model(my_model, train_df, my_feature,\n",
        "                                    my_label, epochs, batch_size,\n",
        "                                    validation_split)\n",
        "\n",
        "plot_the_loss_curve(epochs, history[\"root_mean_squared_error\"],\n",
        "                    history[\"val_root_mean_squared_error\"])"
      ],
      "metadata": {
        "id": "vkwGP8-xa-Pf",
        "colab": {
          "base_uri": "https://localhost:8080/",
          "height": 1000
        },
        "outputId": "538b007f-00e9-42b4-a4f7-cd1859166389"
      },
      "execution_count": 7,
      "outputs": [
        {
          "output_type": "stream",
          "name": "stdout",
          "text": [
            "Epoch 1/30\n",
            "136/136 [==============================] - 1s 3ms/step - loss: 39608.5547 - root_mean_squared_error: 199.0190 - val_loss: 48016.3164 - val_root_mean_squared_error: 219.1263\n",
            "Epoch 2/30\n",
            "136/136 [==============================] - 0s 2ms/step - loss: 22781.3516 - root_mean_squared_error: 150.9349 - val_loss: 28074.0039 - val_root_mean_squared_error: 167.5530\n",
            "Epoch 3/30\n",
            "136/136 [==============================] - 0s 2ms/step - loss: 12077.0010 - root_mean_squared_error: 109.8954 - val_loss: 15208.9521 - val_root_mean_squared_error: 123.3246\n",
            "Epoch 4/30\n",
            "136/136 [==============================] - 0s 2ms/step - loss: 7218.1387 - root_mean_squared_error: 84.9596 - val_loss: 9474.9102 - val_root_mean_squared_error: 97.3391\n",
            "Epoch 5/30\n",
            "136/136 [==============================] - 0s 2ms/step - loss: 6512.3682 - root_mean_squared_error: 80.6992 - val_loss: 9378.3457 - val_root_mean_squared_error: 96.8419\n",
            "Epoch 6/30\n",
            "136/136 [==============================] - 0s 2ms/step - loss: 6513.2817 - root_mean_squared_error: 80.7049 - val_loss: 9413.8027 - val_root_mean_squared_error: 97.0247\n",
            "Epoch 7/30\n",
            "136/136 [==============================] - 0s 2ms/step - loss: 6513.9517 - root_mean_squared_error: 80.7091 - val_loss: 9228.8730 - val_root_mean_squared_error: 96.0670\n",
            "Epoch 8/30\n",
            "136/136 [==============================] - 0s 2ms/step - loss: 6513.3999 - root_mean_squared_error: 80.7056 - val_loss: 9346.4766 - val_root_mean_squared_error: 96.6772\n",
            "Epoch 9/30\n",
            "136/136 [==============================] - 0s 2ms/step - loss: 6513.9858 - root_mean_squared_error: 80.7093 - val_loss: 9247.6621 - val_root_mean_squared_error: 96.1648\n",
            "Epoch 10/30\n",
            "136/136 [==============================] - 0s 2ms/step - loss: 6513.5889 - root_mean_squared_error: 80.7068 - val_loss: 9284.0830 - val_root_mean_squared_error: 96.3539\n",
            "Epoch 11/30\n",
            "136/136 [==============================] - 0s 2ms/step - loss: 6512.3335 - root_mean_squared_error: 80.6990 - val_loss: 9245.7451 - val_root_mean_squared_error: 96.1548\n",
            "Epoch 12/30\n",
            "136/136 [==============================] - 0s 2ms/step - loss: 6513.7676 - root_mean_squared_error: 80.7079 - val_loss: 9281.0039 - val_root_mean_squared_error: 96.3380\n",
            "Epoch 13/30\n",
            "136/136 [==============================] - 0s 2ms/step - loss: 6514.2690 - root_mean_squared_error: 80.7110 - val_loss: 9294.9590 - val_root_mean_squared_error: 96.4104\n",
            "Epoch 14/30\n",
            "136/136 [==============================] - 0s 2ms/step - loss: 6511.5317 - root_mean_squared_error: 80.6941 - val_loss: 9416.4502 - val_root_mean_squared_error: 97.0384\n",
            "Epoch 15/30\n",
            "136/136 [==============================] - 0s 2ms/step - loss: 6513.9600 - root_mean_squared_error: 80.7091 - val_loss: 9265.9395 - val_root_mean_squared_error: 96.2598\n",
            "Epoch 16/30\n",
            "136/136 [==============================] - 0s 2ms/step - loss: 6513.6470 - root_mean_squared_error: 80.7072 - val_loss: 9175.9316 - val_root_mean_squared_error: 95.7911\n",
            "Epoch 17/30\n",
            "136/136 [==============================] - 0s 2ms/step - loss: 6513.8569 - root_mean_squared_error: 80.7085 - val_loss: 9235.8672 - val_root_mean_squared_error: 96.1034\n",
            "Epoch 18/30\n",
            "136/136 [==============================] - 0s 2ms/step - loss: 6513.2002 - root_mean_squared_error: 80.7044 - val_loss: 9270.7275 - val_root_mean_squared_error: 96.2846\n",
            "Epoch 19/30\n",
            "136/136 [==============================] - 0s 2ms/step - loss: 6512.7700 - root_mean_squared_error: 80.7017 - val_loss: 9345.7539 - val_root_mean_squared_error: 96.6734\n",
            "Epoch 20/30\n",
            "136/136 [==============================] - 0s 2ms/step - loss: 6514.1831 - root_mean_squared_error: 80.7105 - val_loss: 9283.8779 - val_root_mean_squared_error: 96.3529\n",
            "Epoch 21/30\n",
            "136/136 [==============================] - 0s 2ms/step - loss: 6513.3911 - root_mean_squared_error: 80.7056 - val_loss: 9199.9727 - val_root_mean_squared_error: 95.9165\n",
            "Epoch 22/30\n",
            "136/136 [==============================] - 0s 2ms/step - loss: 6513.3926 - root_mean_squared_error: 80.7056 - val_loss: 9360.7861 - val_root_mean_squared_error: 96.7512\n",
            "Epoch 23/30\n",
            "136/136 [==============================] - 0s 2ms/step - loss: 6513.1636 - root_mean_squared_error: 80.7042 - val_loss: 9438.4434 - val_root_mean_squared_error: 97.1516\n",
            "Epoch 24/30\n",
            "136/136 [==============================] - 0s 2ms/step - loss: 6513.9048 - root_mean_squared_error: 80.7088 - val_loss: 9283.5557 - val_root_mean_squared_error: 96.3512\n",
            "Epoch 25/30\n",
            "136/136 [==============================] - 0s 2ms/step - loss: 6512.9717 - root_mean_squared_error: 80.7030 - val_loss: 9419.3125 - val_root_mean_squared_error: 97.0531\n",
            "Epoch 26/30\n",
            "136/136 [==============================] - 0s 2ms/step - loss: 6513.2266 - root_mean_squared_error: 80.7046 - val_loss: 9428.7520 - val_root_mean_squared_error: 97.1018\n",
            "Epoch 27/30\n",
            "136/136 [==============================] - 0s 2ms/step - loss: 6512.8594 - root_mean_squared_error: 80.7023 - val_loss: 9222.0752 - val_root_mean_squared_error: 96.0316\n",
            "Epoch 28/30\n",
            "136/136 [==============================] - 0s 2ms/step - loss: 6514.2061 - root_mean_squared_error: 80.7106 - val_loss: 9264.2920 - val_root_mean_squared_error: 96.2512\n",
            "Epoch 29/30\n",
            "136/136 [==============================] - 0s 2ms/step - loss: 6513.1104 - root_mean_squared_error: 80.7038 - val_loss: 9442.4072 - val_root_mean_squared_error: 97.1721\n",
            "Epoch 30/30\n",
            "136/136 [==============================] - 0s 2ms/step - loss: 6513.3306 - root_mean_squared_error: 80.7052 - val_loss: 9279.4619 - val_root_mean_squared_error: 96.3300\n",
            "86.85893249511719\n"
          ]
        },
        {
          "output_type": "display_data",
          "data": {
            "text/plain": [
              "<Figure size 640x480 with 1 Axes>"
            ],
            "image/png": "[encoded data removed]"
          },
          "metadata": {}
        }
      ]
    }
  ]
}